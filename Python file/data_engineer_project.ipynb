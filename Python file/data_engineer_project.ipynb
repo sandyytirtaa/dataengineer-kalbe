{
 "cells": [
  {
   "cell_type": "markdown",
   "metadata": {},
   "source": [
    "## 3. Melengkapi sintaks untuk memasukkan data dari python ke MySQL"
   ]
  },
  {
   "cell_type": "code",
   "execution_count": 1,
   "metadata": {},
   "outputs": [
    {
     "name": "stdout",
     "output_type": "stream",
     "text": [
      "Berhasil terhubung ke database\n"
     ]
    }
   ],
   "source": [
    "#Melakukan import mysql connector\n",
    "import mysql.connector\n",
    "\n",
    "#Melakukan percobaan koneksi ke database db\n",
    "conn = mysql.connector.connect(\n",
    "        host=\"localhost\", user=\"root\", passwd=\"alfatih123\", database=\"db\" )\n",
    "\n",
    "#Membuat kursor sebagai penanda\n",
    "\n",
    "cursor = conn.cursor()\n",
    "\n",
    "#Deklarasi SQL Query untuk memasukkan record ke DB (KARYAWAN)\n",
    "insert_sql = (\n",
    "    \"INSERT INTO karyawan (FIRST_NAME, LAST_NAME, AGE, SEX, INCOME) \" \n",
    "    \"VALUES (%s, %s, %s, %s, %s)\"\n",
    ")\n",
    "values = (\"Indy\", \"Faizah\", \"20\", \"F\", \"3000000\")\n",
    "\n",
    "try:\n",
    "    #Eksekusi SQL Command\n",
    "    cursor.execute(insert_sql, values)\n",
    "    \n",
    "    #Melakukan perubahan (commit) pada DB\n",
    "    conn.commit()    \n",
    "    print(\"Berhasil terhubung ke database\")\n",
    "    \n",
    "except mysql.connector.Error as err:\n",
    "    #Roll Back apabila ada issue\n",
    "    conn.rollback()\n",
    "\n",
    "#Menutup koneksi\n",
    "conn.close()"
   ]
  },
  {
   "cell_type": "markdown",
   "metadata": {},
   "source": [
    "## SQL Queries in Python (4 & 5)"
   ]
  },
  {
   "cell_type": "markdown",
   "metadata": {},
   "source": [
    "### 4.)"
   ]
  },
  {
   "cell_type": "markdown",
   "metadata": {},
   "source": [
    "### Buat connection dan cursor untuk mengakses database KALBE di MySQL"
   ]
  },
  {
   "cell_type": "code",
   "execution_count": 43,
   "metadata": {},
   "outputs": [
    {
     "name": "stdout",
     "output_type": "stream",
     "text": [
      "Berhasil terhubung ke database\n"
     ]
    }
   ],
   "source": [
    "import mysql.connector\n",
    "import pandas as pd\n",
    "\n",
    "#Melakukan percobaan koneksi \n",
    "conn = mysql.connector.connect(\n",
    "        host=\"localhost\", user=\"root\", passwd=\"alfatih123\", database=\"KALBE\" )\n",
    "cursor = conn.cursor()\n",
    "if conn.is_connected():\n",
    "        print(\"Berhasil terhubung ke database\")\n",
    "else :\n",
    "        print(\"Gagal terhubung ke database\")"
   ]
  },
  {
   "cell_type": "markdown",
   "metadata": {},
   "source": [
    "### Buat dan tampilkan tabel Inventory"
   ]
  },
  {
   "cell_type": "code",
   "execution_count": 45,
   "metadata": {},
   "outputs": [
    {
     "name": "stderr",
     "output_type": "stream",
     "text": [
      "C:\\Users\\LENOVO IDPGAMING\\AppData\\Local\\Temp\\ipykernel_35340\\3926573354.py:8: UserWarning: pandas only supports SQLAlchemy connectable (engine/connection) or database string URI or sqlite3 DBAPI2 connection. Other DBAPI2 objects are not tested. Please consider using SQLAlchemy.\n",
      "  show = pd.read_sql(inventory, conn)\n"
     ]
    },
    {
     "data": {
      "text/html": [
       "<div>\n",
       "<style scoped>\n",
       "    .dataframe tbody tr th:only-of-type {\n",
       "        vertical-align: middle;\n",
       "    }\n",
       "\n",
       "    .dataframe tbody tr th {\n",
       "        vertical-align: top;\n",
       "    }\n",
       "\n",
       "    .dataframe thead th {\n",
       "        text-align: right;\n",
       "    }\n",
       "</style>\n",
       "<table border=\"1\" class=\"dataframe\">\n",
       "  <thead>\n",
       "    <tr style=\"text-align: right;\">\n",
       "      <th></th>\n",
       "      <th>Item_code</th>\n",
       "      <th>Item_name</th>\n",
       "      <th>Item_price</th>\n",
       "      <th>Item_total</th>\n",
       "    </tr>\n",
       "  </thead>\n",
       "  <tbody>\n",
       "    <tr>\n",
       "      <th>0</th>\n",
       "      <td>2341</td>\n",
       "      <td>Promag Tablet</td>\n",
       "      <td>3000</td>\n",
       "      <td>100</td>\n",
       "    </tr>\n",
       "    <tr>\n",
       "      <th>1</th>\n",
       "      <td>2342</td>\n",
       "      <td>Hydro Coco 250ML</td>\n",
       "      <td>7000</td>\n",
       "      <td>20</td>\n",
       "    </tr>\n",
       "    <tr>\n",
       "      <th>2</th>\n",
       "      <td>2343</td>\n",
       "      <td>Nutrive Benecol</td>\n",
       "      <td>20000</td>\n",
       "      <td>30</td>\n",
       "    </tr>\n",
       "    <tr>\n",
       "      <th>3</th>\n",
       "      <td>2344</td>\n",
       "      <td>Blackmore Vit C 500Mg</td>\n",
       "      <td>95000</td>\n",
       "      <td>45</td>\n",
       "    </tr>\n",
       "    <tr>\n",
       "      <th>4</th>\n",
       "      <td>2345</td>\n",
       "      <td>Entrasol Gold 370G</td>\n",
       "      <td>90000</td>\n",
       "      <td>120</td>\n",
       "    </tr>\n",
       "  </tbody>\n",
       "</table>\n",
       "</div>"
      ],
      "text/plain": [
       "  Item_code              Item_name  Item_price  Item_total\n",
       "0      2341          Promag Tablet        3000         100\n",
       "1      2342       Hydro Coco 250ML        7000          20\n",
       "2      2343        Nutrive Benecol       20000          30\n",
       "3      2344  Blackmore Vit C 500Mg       95000          45\n",
       "4      2345     Entrasol Gold 370G       90000         120"
      ]
     },
     "execution_count": 45,
     "metadata": {},
     "output_type": "execute_result"
    }
   ],
   "source": [
    "query = \"drop table IF EXISTS Inventory;\"\n",
    "execute = cursor.execute(query)\n",
    "query = \"CREATE TABLE Inventory (Item_code CHAR(4) PRIMARY KEY, Item_name VARCHAR(50) NOT NULL, Item_price INT, Item_total INT, UNIQUE (Item_name));\"\n",
    "execute = cursor.execute(query)\n",
    "query = \"INSERT INTO Inventory VALUES ('2341', 'Promag Tablet', '3000', '100'), ('2342', 'Hydro Coco 250ML', '7000', '20'), ('2343', 'Nutrive Benecol', '20000', '30'), ('2344', 'Blackmore Vit C 500Mg', '95000', '45'), ('2345', 'Entrasol Gold 370G', '90000', '120');\"\n",
    "execute = cursor.execute(query)\n",
    "inventory = \"SELECT * FROM Inventory\"\n",
    "show = pd.read_sql(inventory, conn)\n",
    "show"
   ]
  },
  {
   "cell_type": "markdown",
   "metadata": {},
   "source": [
    "### Menampilkan Item_name yang memiliki jumlah nilai terbanyak pada variabel Item_total"
   ]
  },
  {
   "cell_type": "code",
   "execution_count": 46,
   "metadata": {},
   "outputs": [
    {
     "name": "stderr",
     "output_type": "stream",
     "text": [
      "C:\\Users\\LENOVO IDPGAMING\\AppData\\Local\\Temp\\ipykernel_35340\\2451483036.py:2: UserWarning: pandas only supports SQLAlchemy connectable (engine/connection) or database string URI or sqlite3 DBAPI2 connection. Other DBAPI2 objects are not tested. Please consider using SQLAlchemy.\n",
      "  show = pd.read_sql(query, conn)\n"
     ]
    },
    {
     "data": {
      "text/html": [
       "<div>\n",
       "<style scoped>\n",
       "    .dataframe tbody tr th:only-of-type {\n",
       "        vertical-align: middle;\n",
       "    }\n",
       "\n",
       "    .dataframe tbody tr th {\n",
       "        vertical-align: top;\n",
       "    }\n",
       "\n",
       "    .dataframe thead th {\n",
       "        text-align: right;\n",
       "    }\n",
       "</style>\n",
       "<table border=\"1\" class=\"dataframe\">\n",
       "  <thead>\n",
       "    <tr style=\"text-align: right;\">\n",
       "      <th></th>\n",
       "      <th>Item_name</th>\n",
       "    </tr>\n",
       "  </thead>\n",
       "  <tbody>\n",
       "    <tr>\n",
       "      <th>0</th>\n",
       "      <td>Entrasol Gold 370G</td>\n",
       "    </tr>\n",
       "  </tbody>\n",
       "</table>\n",
       "</div>"
      ],
      "text/plain": [
       "            Item_name\n",
       "0  Entrasol Gold 370G"
      ]
     },
     "execution_count": 46,
     "metadata": {},
     "output_type": "execute_result"
    }
   ],
   "source": [
    "query = \"SELECT Item_name FROM Inventory WHERE Item_total = (SELECT MAX(Item_total) FROM Inventory);\"\n",
    "show = pd.read_sql(query, conn)\n",
    "show\n",
    "    "
   ]
  },
  {
   "cell_type": "markdown",
   "metadata": {},
   "source": [
    "### Update kolom Item_price dari hasil yang diperoleh dari query sebelumnya"
   ]
  },
  {
   "cell_type": "code",
   "execution_count": 48,
   "metadata": {},
   "outputs": [
    {
     "name": "stderr",
     "output_type": "stream",
     "text": [
      "C:\\Users\\LENOVO IDPGAMING\\AppData\\Local\\Temp\\ipykernel_35340\\3775889220.py:4: UserWarning: pandas only supports SQLAlchemy connectable (engine/connection) or database string URI or sqlite3 DBAPI2 connection. Other DBAPI2 objects are not tested. Please consider using SQLAlchemy.\n",
      "  show = pd.read_sql(query, conn)\n"
     ]
    },
    {
     "data": {
      "text/html": [
       "<div>\n",
       "<style scoped>\n",
       "    .dataframe tbody tr th:only-of-type {\n",
       "        vertical-align: middle;\n",
       "    }\n",
       "\n",
       "    .dataframe tbody tr th {\n",
       "        vertical-align: top;\n",
       "    }\n",
       "\n",
       "    .dataframe thead th {\n",
       "        text-align: right;\n",
       "    }\n",
       "</style>\n",
       "<table border=\"1\" class=\"dataframe\">\n",
       "  <thead>\n",
       "    <tr style=\"text-align: right;\">\n",
       "      <th></th>\n",
       "      <th>Item_code</th>\n",
       "      <th>Item_name</th>\n",
       "      <th>Item_price</th>\n",
       "      <th>Item_total</th>\n",
       "    </tr>\n",
       "  </thead>\n",
       "  <tbody>\n",
       "    <tr>\n",
       "      <th>0</th>\n",
       "      <td>2341</td>\n",
       "      <td>Promag Tablet</td>\n",
       "      <td>3000</td>\n",
       "      <td>100</td>\n",
       "    </tr>\n",
       "    <tr>\n",
       "      <th>1</th>\n",
       "      <td>2342</td>\n",
       "      <td>Hydro Coco 250ML</td>\n",
       "      <td>7000</td>\n",
       "      <td>20</td>\n",
       "    </tr>\n",
       "    <tr>\n",
       "      <th>2</th>\n",
       "      <td>2343</td>\n",
       "      <td>Nutrive Benecol</td>\n",
       "      <td>20000</td>\n",
       "      <td>30</td>\n",
       "    </tr>\n",
       "    <tr>\n",
       "      <th>3</th>\n",
       "      <td>2344</td>\n",
       "      <td>Blackmore Vit C 500Mg</td>\n",
       "      <td>95000</td>\n",
       "      <td>45</td>\n",
       "    </tr>\n",
       "    <tr>\n",
       "      <th>4</th>\n",
       "      <td>2345</td>\n",
       "      <td>Entrasol Gold 370G</td>\n",
       "      <td>100000</td>\n",
       "      <td>120</td>\n",
       "    </tr>\n",
       "  </tbody>\n",
       "</table>\n",
       "</div>"
      ],
      "text/plain": [
       "  Item_code              Item_name  Item_price  Item_total\n",
       "0      2341          Promag Tablet        3000         100\n",
       "1      2342       Hydro Coco 250ML        7000          20\n",
       "2      2343        Nutrive Benecol       20000          30\n",
       "3      2344  Blackmore Vit C 500Mg       95000          45\n",
       "4      2345     Entrasol Gold 370G      100000         120"
      ]
     },
     "execution_count": 48,
     "metadata": {},
     "output_type": "execute_result"
    }
   ],
   "source": [
    "query = \"UPDATE Inventory SET Item_price = 100000 WHERE Item_name = 'Entrasol Gold 370G';\"\n",
    "execute = cursor.execute(query)\n",
    "query = \"SELECT * FROM Inventory\"\n",
    "show = pd.read_sql(query, conn)\n",
    "show"
   ]
  },
  {
   "cell_type": "markdown",
   "metadata": {},
   "source": [
    "### Melihat apa yang terjadi bila dimasukkan record dengan item_code 2343"
   ]
  },
  {
   "cell_type": "code",
   "execution_count": 49,
   "metadata": {},
   "outputs": [
    {
     "name": "stdout",
     "output_type": "stream",
     "text": [
      "Error: 1062 (23000): Duplicate entry '2343' for key 'inventory.PRIMARY'\n"
     ]
    }
   ],
   "source": [
    "try:\n",
    "  query = \"INSERT INTO Inventory(Item_code, Item_name) VALUES ('2343', 'Kalbe Product');\"\n",
    "  execute = cursor.execute(query)\n",
    "except mysql.connector.Error as err:\n",
    "  print(f\"Error: {err}\")"
   ]
  },
  {
   "cell_type": "markdown",
   "metadata": {},
   "source": [
    "### Menghapus record dengan item_total terkecil"
   ]
  },
  {
   "cell_type": "markdown",
   "metadata": {},
   "source": [
    "#### Mencari nilai total item terkecil"
   ]
  },
  {
   "cell_type": "code",
   "execution_count": 50,
   "metadata": {},
   "outputs": [
    {
     "name": "stderr",
     "output_type": "stream",
     "text": [
      "C:\\Users\\LENOVO IDPGAMING\\AppData\\Local\\Temp\\ipykernel_35340\\1694525324.py:2: UserWarning: pandas only supports SQLAlchemy connectable (engine/connection) or database string URI or sqlite3 DBAPI2 connection. Other DBAPI2 objects are not tested. Please consider using SQLAlchemy.\n",
      "  show = pd.read_sql(query, conn)\n"
     ]
    },
    {
     "data": {
      "text/html": [
       "<div>\n",
       "<style scoped>\n",
       "    .dataframe tbody tr th:only-of-type {\n",
       "        vertical-align: middle;\n",
       "    }\n",
       "\n",
       "    .dataframe tbody tr th {\n",
       "        vertical-align: top;\n",
       "    }\n",
       "\n",
       "    .dataframe thead th {\n",
       "        text-align: right;\n",
       "    }\n",
       "</style>\n",
       "<table border=\"1\" class=\"dataframe\">\n",
       "  <thead>\n",
       "    <tr style=\"text-align: right;\">\n",
       "      <th></th>\n",
       "      <th>Item_name</th>\n",
       "    </tr>\n",
       "  </thead>\n",
       "  <tbody>\n",
       "    <tr>\n",
       "      <th>0</th>\n",
       "      <td>Hydro Coco 250ML</td>\n",
       "    </tr>\n",
       "  </tbody>\n",
       "</table>\n",
       "</div>"
      ],
      "text/plain": [
       "          Item_name\n",
       "0  Hydro Coco 250ML"
      ]
     },
     "execution_count": 50,
     "metadata": {},
     "output_type": "execute_result"
    }
   ],
   "source": [
    "query = \"SELECT Item_name FROM Inventory WHERE Item_total = (SELECT MIN(Item_total) FROM Inventory);\"\n",
    "show = pd.read_sql(query, conn)\n",
    "show"
   ]
  },
  {
   "cell_type": "markdown",
   "metadata": {},
   "source": [
    "#### Menghapus record"
   ]
  },
  {
   "cell_type": "code",
   "execution_count": 52,
   "metadata": {},
   "outputs": [
    {
     "name": "stderr",
     "output_type": "stream",
     "text": [
      "C:\\Users\\LENOVO IDPGAMING\\AppData\\Local\\Temp\\ipykernel_35340\\3588345552.py:3: UserWarning: pandas only supports SQLAlchemy connectable (engine/connection) or database string URI or sqlite3 DBAPI2 connection. Other DBAPI2 objects are not tested. Please consider using SQLAlchemy.\n",
      "  show = pd.read_sql(inventory, conn)\n"
     ]
    },
    {
     "data": {
      "text/html": [
       "<div>\n",
       "<style scoped>\n",
       "    .dataframe tbody tr th:only-of-type {\n",
       "        vertical-align: middle;\n",
       "    }\n",
       "\n",
       "    .dataframe tbody tr th {\n",
       "        vertical-align: top;\n",
       "    }\n",
       "\n",
       "    .dataframe thead th {\n",
       "        text-align: right;\n",
       "    }\n",
       "</style>\n",
       "<table border=\"1\" class=\"dataframe\">\n",
       "  <thead>\n",
       "    <tr style=\"text-align: right;\">\n",
       "      <th></th>\n",
       "      <th>Item_code</th>\n",
       "      <th>Item_name</th>\n",
       "      <th>Item_price</th>\n",
       "      <th>Item_total</th>\n",
       "    </tr>\n",
       "  </thead>\n",
       "  <tbody>\n",
       "    <tr>\n",
       "      <th>0</th>\n",
       "      <td>2341</td>\n",
       "      <td>Promag Tablet</td>\n",
       "      <td>3000</td>\n",
       "      <td>100</td>\n",
       "    </tr>\n",
       "    <tr>\n",
       "      <th>1</th>\n",
       "      <td>2343</td>\n",
       "      <td>Nutrive Benecol</td>\n",
       "      <td>20000</td>\n",
       "      <td>30</td>\n",
       "    </tr>\n",
       "    <tr>\n",
       "      <th>2</th>\n",
       "      <td>2344</td>\n",
       "      <td>Blackmore Vit C 500Mg</td>\n",
       "      <td>95000</td>\n",
       "      <td>45</td>\n",
       "    </tr>\n",
       "    <tr>\n",
       "      <th>3</th>\n",
       "      <td>2345</td>\n",
       "      <td>Entrasol Gold 370G</td>\n",
       "      <td>100000</td>\n",
       "      <td>120</td>\n",
       "    </tr>\n",
       "  </tbody>\n",
       "</table>\n",
       "</div>"
      ],
      "text/plain": [
       "  Item_code              Item_name  Item_price  Item_total\n",
       "0      2341          Promag Tablet        3000         100\n",
       "1      2343        Nutrive Benecol       20000          30\n",
       "2      2344  Blackmore Vit C 500Mg       95000          45\n",
       "3      2345     Entrasol Gold 370G      100000         120"
      ]
     },
     "execution_count": 52,
     "metadata": {},
     "output_type": "execute_result"
    }
   ],
   "source": [
    "query = \"DELETE FROM Inventory WHERE Item_name = 'Hydro Coco 250ML';\"\n",
    "execute = cursor.execute(query)\n",
    "show = pd.read_sql(inventory, conn)\n",
    "show"
   ]
  },
  {
   "cell_type": "markdown",
   "metadata": {},
   "source": [
    "### 5.)"
   ]
  },
  {
   "cell_type": "markdown",
   "metadata": {},
   "source": [
    "### Tabel customer_order"
   ]
  },
  {
   "cell_type": "code",
   "execution_count": 54,
   "metadata": {},
   "outputs": [
    {
     "name": "stderr",
     "output_type": "stream",
     "text": [
      "C:\\Users\\LENOVO IDPGAMING\\AppData\\Local\\Temp\\ipykernel_35340\\146901305.py:2: UserWarning: pandas only supports SQLAlchemy connectable (engine/connection) or database string URI or sqlite3 DBAPI2 connection. Other DBAPI2 objects are not tested. Please consider using SQLAlchemy.\n",
      "  show = pd.read_sql(cust_orders, conn)\n"
     ]
    },
    {
     "data": {
      "text/html": [
       "<div>\n",
       "<style scoped>\n",
       "    .dataframe tbody tr th:only-of-type {\n",
       "        vertical-align: middle;\n",
       "    }\n",
       "\n",
       "    .dataframe tbody tr th {\n",
       "        vertical-align: top;\n",
       "    }\n",
       "\n",
       "    .dataframe thead th {\n",
       "        text-align: right;\n",
       "    }\n",
       "</style>\n",
       "<table border=\"1\" class=\"dataframe\">\n",
       "  <thead>\n",
       "    <tr style=\"text-align: right;\">\n",
       "      <th></th>\n",
       "      <th>order_no</th>\n",
       "      <th>purchase_amount</th>\n",
       "      <th>order_date</th>\n",
       "      <th>customer_id</th>\n",
       "      <th>salesman_id</th>\n",
       "    </tr>\n",
       "  </thead>\n",
       "  <tbody>\n",
       "    <tr>\n",
       "      <th>0</th>\n",
       "      <td>10001</td>\n",
       "      <td>150</td>\n",
       "      <td>2022-10-05</td>\n",
       "      <td>2005</td>\n",
       "      <td>3002</td>\n",
       "    </tr>\n",
       "    <tr>\n",
       "      <th>1</th>\n",
       "      <td>10009</td>\n",
       "      <td>279</td>\n",
       "      <td>2022-09-10</td>\n",
       "      <td>2001</td>\n",
       "      <td>3005</td>\n",
       "    </tr>\n",
       "    <tr>\n",
       "      <th>2</th>\n",
       "      <td>10002</td>\n",
       "      <td>65</td>\n",
       "      <td>2022-10-05</td>\n",
       "      <td>2002</td>\n",
       "      <td>3001</td>\n",
       "    </tr>\n",
       "    <tr>\n",
       "      <th>3</th>\n",
       "      <td>10004</td>\n",
       "      <td>110</td>\n",
       "      <td>2022-08-17</td>\n",
       "      <td>2009</td>\n",
       "      <td>3003</td>\n",
       "    </tr>\n",
       "    <tr>\n",
       "      <th>4</th>\n",
       "      <td>10007</td>\n",
       "      <td>948</td>\n",
       "      <td>2022-09-10</td>\n",
       "      <td>2005</td>\n",
       "      <td>3002</td>\n",
       "    </tr>\n",
       "    <tr>\n",
       "      <th>5</th>\n",
       "      <td>10005</td>\n",
       "      <td>2400</td>\n",
       "      <td>2022-07-27</td>\n",
       "      <td>2007</td>\n",
       "      <td>3001</td>\n",
       "    </tr>\n",
       "  </tbody>\n",
       "</table>\n",
       "</div>"
      ],
      "text/plain": [
       "   order_no  purchase_amount  order_date  customer_id  salesman_id\n",
       "0     10001              150  2022-10-05         2005         3002\n",
       "1     10009              279  2022-09-10         2001         3005\n",
       "2     10002               65  2022-10-05         2002         3001\n",
       "3     10004              110  2022-08-17         2009         3003\n",
       "4     10007              948  2022-09-10         2005         3002\n",
       "5     10005             2400  2022-07-27         2007         3001"
      ]
     },
     "execution_count": 54,
     "metadata": {},
     "output_type": "execute_result"
    }
   ],
   "source": [
    "cust_orders = \"SELECT * FROM customer_orders;\"\n",
    "show = pd.read_sql(cust_orders, conn)\n",
    "show"
   ]
  },
  {
   "cell_type": "markdown",
   "metadata": {},
   "source": [
    "### purchase_amount < 100 atau tidak mengandung order_date is >= 25 Aug 2022 dan customer_id > 2001 dari tabel customer_orders"
   ]
  },
  {
   "cell_type": "code",
   "execution_count": 55,
   "metadata": {},
   "outputs": [
    {
     "name": "stderr",
     "output_type": "stream",
     "text": [
      "C:\\Users\\LENOVO IDPGAMING\\AppData\\Local\\Temp\\ipykernel_35340\\3761564673.py:2: UserWarning: pandas only supports SQLAlchemy connectable (engine/connection) or database string URI or sqlite3 DBAPI2 connection. Other DBAPI2 objects are not tested. Please consider using SQLAlchemy.\n",
      "  show = pd.read_sql(query, conn)\n"
     ]
    },
    {
     "data": {
      "text/html": [
       "<div>\n",
       "<style scoped>\n",
       "    .dataframe tbody tr th:only-of-type {\n",
       "        vertical-align: middle;\n",
       "    }\n",
       "\n",
       "    .dataframe tbody tr th {\n",
       "        vertical-align: top;\n",
       "    }\n",
       "\n",
       "    .dataframe thead th {\n",
       "        text-align: right;\n",
       "    }\n",
       "</style>\n",
       "<table border=\"1\" class=\"dataframe\">\n",
       "  <thead>\n",
       "    <tr style=\"text-align: right;\">\n",
       "      <th></th>\n",
       "      <th>order_no</th>\n",
       "      <th>purchase_amount</th>\n",
       "      <th>order_date</th>\n",
       "      <th>customer_id</th>\n",
       "      <th>salesman_id</th>\n",
       "    </tr>\n",
       "  </thead>\n",
       "  <tbody>\n",
       "    <tr>\n",
       "      <th>0</th>\n",
       "      <td>10002</td>\n",
       "      <td>65</td>\n",
       "      <td>2022-10-05</td>\n",
       "      <td>2002</td>\n",
       "      <td>3001</td>\n",
       "    </tr>\n",
       "  </tbody>\n",
       "</table>\n",
       "</div>"
      ],
      "text/plain": [
       "   order_no  purchase_amount  order_date  customer_id  salesman_id\n",
       "0     10002               65  2022-10-05         2002         3001"
      ]
     },
     "execution_count": 55,
     "metadata": {},
     "output_type": "execute_result"
    }
   ],
   "source": [
    "query = \"SELECT * FROM customer_orders WHERE purchase_amount < 100 OR (order_date < '2022-08-25' AND customer_id <= 2001);\"\n",
    "show = pd.read_sql(query, conn)\n",
    "show"
   ]
  }
 ],
 "metadata": {
  "kernelspec": {
   "display_name": "Python 3",
   "language": "python",
   "name": "python3"
  },
  "language_info": {
   "codemirror_mode": {
    "name": "ipython",
    "version": 3
   },
   "file_extension": ".py",
   "mimetype": "text/x-python",
   "name": "python",
   "nbconvert_exporter": "python",
   "pygments_lexer": "ipython3",
   "version": "3.11.0"
  },
  "orig_nbformat": 4
 },
 "nbformat": 4,
 "nbformat_minor": 2
}
